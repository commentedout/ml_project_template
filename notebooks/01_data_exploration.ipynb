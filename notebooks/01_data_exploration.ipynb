{
 "cells": [
  {
   "cell_type": "code",
   "execution_count": null,
   "id": "75b83e41",
   "metadata": {},
   "outputs": [
    {
     "name": "stdout",
     "output_type": "stream",
     "text": [
      "{'project_name': 'my-cool-project', 'random_seed': 42, 'model_type': 'random_forest', 'cross_validation_folds': 5, 'test_size': 0.2, 'early_stopping_rounds': 10}\n",
      "{'raw_data_dir': 'data/raw', 'processed_data_dir': 'data/processed', 'models_dir': 'models', 'outputs_dir': 'outputs', 'logs_dir': 'outputs/logs'}\n",
      "{'my-secret-01': 'local-secret-value-1', 'my-secret-02': 'local-secret-value-2'}\n",
      "Welcome to the my-cool-project project\n",
      "Configurations loaded successfully.\n"
     ]
    }
   ],
   "source": [
    "from configs.config_loader import load_config\n",
    "\n",
    "config = load_config()\n",
    "\n",
    "configs = config[\"configurations\"]\n",
    "dirs = config[\"directories\"]\n",
    "secrets = config[\"secrets\"]\n",
    "\n",
    "print(configs)\n",
    "print(dirs)\n",
    "print(secrets)\n",
    "\n",
    "\n",
    "proj_name = configs.get(\"project_name\")\n",
    "if proj_name:\n",
    "    print(f\"Welcome to the {proj_name} project\")"
   ]
  }
 ],
 "metadata": {
  "kernelspec": {
   "display_name": "learn_ml",
   "language": "python",
   "name": "python3"
  },
  "language_info": {
   "codemirror_mode": {
    "name": "ipython",
    "version": 3
   },
   "file_extension": ".py",
   "mimetype": "text/x-python",
   "name": "python",
   "nbconvert_exporter": "python",
   "pygments_lexer": "ipython3",
   "version": "3.12.3"
  }
 },
 "nbformat": 4,
 "nbformat_minor": 5
}
